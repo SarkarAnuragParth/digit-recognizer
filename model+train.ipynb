{
 "cells": [
  {
   "cell_type": "code",
   "execution_count": 5,
   "id": "44629f93",
   "metadata": {},
   "outputs": [
    {
     "name": "stdout",
     "output_type": "stream",
     "text": [
      "(60000, 28, 28) (60000,)\n"
     ]
    }
   ],
   "source": [
    "import keras\n",
    "from keras.datasets import mnist\n",
    "from keras.layers import Dense,Flatten,Dropout,Conv2D, MaxPooling2D\n",
    "import matplotlib.pyplot as plt\n",
    "import cv2\n",
    "(x_train,y_train),(X_test,Y_test)=mnist.load_data()\n",
    "print(x_train.shape,y_train.shape)"
   ]
  },
  {
   "cell_type": "code",
   "execution_count": 3,
   "id": "266c98a3",
   "metadata": {},
   "outputs": [
    {
     "data": {
      "text/plain": [
       "<matplotlib.image.AxesImage at 0x2bba2aba7f0>"
      ]
     },
     "execution_count": 3,
     "metadata": {},
     "output_type": "execute_result"
    },
    {
     "data": {
      "image/png": "[encoded data removed]",
      "text/plain": [
       "<Figure size 432x288 with 3 Axes>"
      ]
     },
     "metadata": {
      "needs_background": "light"
     },
     "output_type": "display_data"
    }
   ],
   "source": [
    "#Code to show the mnist datatset -->\n",
    "plt.figure(1)\n",
    "plt.subplot(331)\n",
    "plt.title(y_train[0])\n",
    "plt.axis('off')\n",
    "img = cv2.cvtColor(x_train[0], cv2.COLOR_BGR2RGB)\n",
    "plt.imshow(img)\n",
    "plt.subplot(332)\n",
    "plt.title(y_train[1])\n",
    "plt.axis('off')\n",
    "img = cv2.cvtColor(x_train[1], cv2.COLOR_BGR2RGB)\n",
    "plt.imshow(img)\n",
    "plt.subplot(333)\n",
    "plt.title(y_train[2])\n",
    "plt.axis('off')\n",
    "img = cv2.cvtColor(x_train[2], cv2.COLOR_BGR2RGB)\n",
    "plt.imshow(img)"
   ]
  },
  {
   "cell_type": "code",
   "execution_count": 6,
   "id": "a3479180",
   "metadata": {},
   "outputs": [
    {
     "name": "stdout",
     "output_type": "stream",
     "text": [
      "[0. 0. 0. 0. 0. 1. 0. 0. 0. 0.]\n"
     ]
    }
   ],
   "source": [
    "x_train=x_train.reshape(x_train.shape[0],28,28,1)\n",
    "X_test=X_test.reshape(X_test.shape[0],28,28,1)\n",
    "x_train=x_train.astype('float32')\n",
    "X_test=X_test.astype('float32')\n",
    "x_train/=255\n",
    "X_test/=255\n",
    "y_train=keras.utils.to_categorical(y_train, 10)\n",
    "Y_test=keras.utils.to_categorical(Y_test, 10)\n",
    "print(y_train[0])"
   ]
  },
  {
   "cell_type": "code",
   "execution_count": 7,
   "id": "3a74dff3",
   "metadata": {},
   "outputs": [
    {
     "name": "stdout",
     "output_type": "stream",
     "text": [
      "Model: \"sequential\"\n",
      "_________________________________________________________________\n",
      " Layer (type)                Output Shape              Param #   \n",
      "=================================================================\n",
      " conv2d (Conv2D)             (None, 26, 26, 32)        320       \n",
      "                                                                 \n",
      " max_pooling2d (MaxPooling2D  (None, 13, 13, 32)       0         \n",
      " )                                                               \n",
      "                                                                 \n",
      " conv2d_1 (Conv2D)           (None, 11, 11, 64)        18496     \n",
      "                                                                 \n",
      " conv2d_2 (Conv2D)           (None, 10, 10, 128)       32896     \n",
      "                                                                 \n",
      " max_pooling2d_1 (MaxPooling  (None, 5, 5, 128)        0         \n",
      " 2D)                                                             \n",
      "                                                                 \n",
      " flatten (Flatten)           (None, 3200)              0         \n",
      "                                                                 \n",
      " dense (Dense)               (None, 256)               819456    \n",
      "                                                                 \n",
      " dropout (Dropout)           (None, 256)               0         \n",
      "                                                                 \n",
      " dense_1 (Dense)             (None, 64)                16448     \n",
      "                                                                 \n",
      " dropout_1 (Dropout)         (None, 64)                0         \n",
      "                                                                 \n",
      " dense_2 (Dense)             (None, 10)                650       \n",
      "                                                                 \n",
      "=================================================================\n",
      "Total params: 888,266\n",
      "Trainable params: 888,266\n",
      "Non-trainable params: 0\n",
      "_________________________________________________________________\n"
     ]
    }
   ],
   "source": [
    "my_model=keras.Sequential()\n",
    "my_model.add(Conv2D(32,kernel_size=(3,3),activation='relu',input_shape=(28,28,1)))\n",
    "my_model.add(MaxPooling2D(pool_size=(2,2)))\n",
    "my_model.add(Conv2D(64,kernel_size=(3,3),activation='relu'))\n",
    "my_model.add(Conv2D(128,kernel_size=(2,2),activation='relu'))\n",
    "my_model.add(MaxPooling2D(pool_size=(2,2)))\n",
    "my_model.add(Flatten())\n",
    "my_model.add(Dense(256,activation='relu'))\n",
    "my_model.add(Dropout(0.5))\n",
    "my_model.add(Dense(64,activation='relu'))\n",
    "my_model.add(Dropout(0.125))\n",
    "my_model.add(Dense(10,activation='softmax'))\n",
    "my_model.compile(optimizer=keras.optimizers.Adam(),loss=keras.losses.categorical_crossentropy,metrics='accuracy')\n",
    "\n",
    "my_model.summary()"
   ]
  },
  {
   "cell_type": "code",
   "execution_count": 8,
   "id": "2c745756",
   "metadata": {},
   "outputs": [
    {
     "name": "stdout",
     "output_type": "stream",
     "text": [
      "Epoch 1/10\n",
      "1875/1875 [==============================] - 64s 34ms/step - loss: 0.1870 - accuracy: 0.9433 - val_loss: 0.0413 - val_accuracy: 0.9861\n",
      "Epoch 2/10\n",
      "1875/1875 [==============================] - 64s 34ms/step - loss: 0.0677 - accuracy: 0.9804 - val_loss: 0.0297 - val_accuracy: 0.9912\n",
      "Epoch 3/10\n",
      "1875/1875 [==============================] - 63s 34ms/step - loss: 0.0505 - accuracy: 0.9857 - val_loss: 0.0282 - val_accuracy: 0.9906\n",
      "Epoch 4/10\n",
      "1875/1875 [==============================] - 64s 34ms/step - loss: 0.0398 - accuracy: 0.9888 - val_loss: 0.0245 - val_accuracy: 0.9923\n",
      "Epoch 5/10\n",
      "1875/1875 [==============================] - 64s 34ms/step - loss: 0.0346 - accuracy: 0.9901 - val_loss: 0.0247 - val_accuracy: 0.9934\n",
      "Epoch 6/10\n",
      "1875/1875 [==============================] - 66s 35ms/step - loss: 0.0295 - accuracy: 0.9912 - val_loss: 0.0348 - val_accuracy: 0.9896\n",
      "Epoch 7/10\n",
      "1875/1875 [==============================] - 67s 36ms/step - loss: 0.0267 - accuracy: 0.9923 - val_loss: 0.0251 - val_accuracy: 0.9923\n",
      "Epoch 8/10\n",
      "1875/1875 [==============================] - 66s 35ms/step - loss: 0.0207 - accuracy: 0.9937 - val_loss: 0.0237 - val_accuracy: 0.9932\n",
      "Epoch 9/10\n",
      "1875/1875 [==============================] - 65s 35ms/step - loss: 0.0204 - accuracy: 0.9941 - val_loss: 0.0228 - val_accuracy: 0.9940\n",
      "Epoch 10/10\n",
      "1875/1875 [==============================] - 66s 35ms/step - loss: 0.0194 - accuracy: 0.9942 - val_loss: 0.0309 - val_accuracy: 0.9925\n",
      "Model succesfully trained and saved\n"
     ]
    }
   ],
   "source": [
    "final_res=my_model.fit(x_train,y_train,batch_size=32,epochs=10,verbose=1,validation_data=(X_test,Y_test))\n",
    "my_model.save('Dig_model5.h5')\n",
    "print(\"Model succesfully trained and saved\")"
   ]
  }
 ],
 "metadata": {
  "kernelspec": {
   "display_name": "Python 3 (ipykernel)",
   "language": "python",
   "name": "python3"
  },
  "language_info": {
   "codemirror_mode": {
    "name": "ipython",
    "version": 3
   },
   "file_extension": ".py",
   "mimetype": "text/x-python",
   "name": "python",
   "nbconvert_exporter": "python",
   "pygments_lexer": "ipython3",
   "version": "3.9.12"
  }
 },
 "nbformat": 4,
 "nbformat_minor": 5
}
